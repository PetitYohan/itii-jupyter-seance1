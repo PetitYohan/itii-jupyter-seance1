{
 "cells": [
  {
   "cell_type": "code",
   "execution_count": 12,
   "metadata": {},
   "outputs": [
    {
     "name": "stdout",
     "output_type": "stream",
     "text": [
      "68094.02076655877\n"
     ]
    }
   ],
   "source": [
    "#Exercice 1 :\n",
    "import cmath\n",
    "rayon = 85\n",
    "hauteur = 6\n",
    "volume_cone = math.pi*math.pow(rayon,2)*hauteur/2\n",
    "print(volume_cone)"
   ]
  },
  {
   "cell_type": "code",
   "execution_count": 23,
   "metadata": {},
   "outputs": [
    {
     "name": "stdout",
     "output_type": "stream",
     "text": [
      "La somme Sn=1^3+2^3+3^3+···+n^3 est égale à  9.0\n",
      "La somme Σn=1+2+3+···+n est égale à  3\n"
     ]
    }
   ],
   "source": [
    "#Exercice 2 :\n",
    "import cmath\n",
    "n=2\n",
    "Sn=0\n",
    "En=0\n",
    "for i in range(n+1):\n",
    "    Sn=Sn+math.pow(i,3)\n",
    "    En=En+i\n",
    "print(\"La somme Sn=1^3+2^3+3^3+···+n^3 est égale à \",Sn)\n",
    "print(\"La somme Σn=1+2+3+···+n est égale à \",En)"
   ]
  },
  {
   "cell_type": "code",
   "execution_count": null,
   "metadata": {},
   "outputs": [],
   "source": [
    "#Exercice 3 :"
   ]
  },
  {
   "cell_type": "code",
   "execution_count": 38,
   "metadata": {},
   "outputs": [
    {
     "name": "stdout",
     "output_type": "stream",
     "text": [
      "Pi est environ égale à  3.137864\n"
     ]
    }
   ],
   "source": [
    "#Exercice 4 :\n",
    "import random\n",
    "import cmath\n",
    "n=1000000\n",
    "cercle=0\n",
    "for i in range(n):\n",
    "    x=random.uniform(-1,1)\n",
    "    y=random.uniform(-1,1)\n",
    "    point=math.pow(x,2)+math.pow(y,2)\n",
    "    if(point<1):\n",
    "        cercle=cercle+1\n",
    "pi=4*cercle/n\n",
    "print(\"Pi est environ égale à \",pi)"
   ]
  }
 ],
 "metadata": {
  "kernelspec": {
   "display_name": "Python 3",
   "language": "python",
   "name": "python3"
  },
  "language_info": {
   "codemirror_mode": {
    "name": "ipython",
    "version": 3
   },
   "file_extension": ".py",
   "mimetype": "text/x-python",
   "name": "python",
   "nbconvert_exporter": "python",
   "pygments_lexer": "ipython3",
   "version": "3.7.6"
  }
 },
 "nbformat": 4,
 "nbformat_minor": 4
}
